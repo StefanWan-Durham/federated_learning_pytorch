{
 "cells": [
  {
   "cell_type": "code",
   "execution_count": 3,
   "metadata": {},
   "outputs": [],
   "source": [
    "# Architecture and training code partially based on https://github.com/pytorch/examples/blob/master/mnist/main.py\n",
    "\n",
    "import torch\n",
    "import torch.nn as nn\n",
    "import torch.nn.functional as F\n",
    "import torch.optim as optim\n",
    "from torchvision import datasets, transforms\n",
    "import numpy as np\n",
    "\n",
    "\n",
    "class Net(nn.Module):\n",
    "    def __init__(self):\n",
    "        super(Net, self).__init__()\n",
    "        self.conv1 = nn.Conv2d(1, 32, 3, 1)\n",
    "        self.conv2 = nn.Conv2d(32, 64, 3, 1)\n",
    "        self.dropout1 = nn.Dropout2d(0.25)\n",
    "        self.dropout2 = nn.Dropout2d(0.5)\n",
    "        self.fc1 = nn.Linear(9216, 128)\n",
    "        self.fc2 = nn.Linear(128, 10)\n",
    "\n",
    "    def forward(self, x):\n",
    "        x = self.conv1(x)\n",
    "        x = F.relu(x)\n",
    "        x = self.conv2(x)\n",
    "        x = F.max_pool2d(x, 2)\n",
    "        x = self.dropout1(x)\n",
    "        x = torch.flatten(x, 1)\n",
    "        x = self.fc1(x)\n",
    "        x = F.relu(x)\n",
    "        x = self.dropout2(x)\n",
    "        x = self.fc2(x)\n",
    "        output = F.log_softmax(x, dim=1)\n",
    "        return output\n",
    "\n",
    "def client_update(client_model, optimizer, train_loader, epoch=5):\n",
    "    model.train()\n",
    "    for e in range(epoch):\n",
    "        for batch_idx, (data, target) in enumerate(train_loader):\n",
    "            data, target = data.cuda(), target.cuda()\n",
    "            optimizer.zero_grad()\n",
    "            output = client_model(data)\n",
    "            loss = F.nll_loss(output, target)\n",
    "            loss.backward()\n",
    "            optimizer.step()\n",
    "    print('Train loss: {:.6f}'.format(loss.item()))\n",
    "\n",
    "def server_aggregate(global_model, client_models):\n",
    "    global_dict = global_model.state_dict()\n",
    "    for k in global_dict.keys():\n",
    "        global_dict[k] = torch.stack([client_models[i].state_dict()[k] for i in range(len(client_models))], 0).mean(0)\n",
    "    global_model.load_state_dict(global_dict)\n",
    "    for model in client_models:\n",
    "        model.load_state_dict(global_model.state_dict())\n",
    "\n",
    "def test(global_model, test_loader):\n",
    "    model.eval()\n",
    "    test_loss = 0\n",
    "    correct = 0\n",
    "    with torch.no_grad():\n",
    "        for data, target in test_loader:\n",
    "            data, target = data.cuda(), target.cuda()\n",
    "            output = global_model(data)\n",
    "            test_loss += F.nll_loss(output, target, reduction='sum').item()  # sum up batch loss\n",
    "            pred = output.argmax(dim=1, keepdim=True)  # get the index of the max log-probability\n",
    "            correct += pred.eq(target.view_as(pred)).sum().item()\n",
    "\n",
    "    test_loss /= len(test_loader.dataset)\n",
    "\n",
    "    print('\\nTest loss: {:.4f}, Accuracy: {}/{} ({:.0f}%)\\n'.format(\n",
    "        test_loss, correct, len(test_loader.dataset),\n",
    "        100. * correct / len(test_loader.dataset)))\n",
    "    return test_loss, correct / len(test_loader.dataset)"
   ]
  },
  {
   "cell_type": "code",
   "execution_count": 4,
   "metadata": {},
   "outputs": [
    {
     "name": "stderr",
     "output_type": "stream",
     "text": [
      "0it [00:00, ?it/s]"
     ]
    },
    {
     "name": "stdout",
     "output_type": "stream",
     "text": [
      "Downloading http://yann.lecun.com/exdb/mnist/train-images-idx3-ubyte.gz to ./data/MNIST/raw/train-images-idx3-ubyte.gz\n"
     ]
    },
    {
     "name": "stderr",
     "output_type": "stream",
     "text": [
      "9920512it [00:03, 2590267.69it/s]                             \n"
     ]
    },
    {
     "name": "stdout",
     "output_type": "stream",
     "text": [
      "Extracting ./data/MNIST/raw/train-images-idx3-ubyte.gz to ./data/MNIST/raw\n"
     ]
    },
    {
     "name": "stderr",
     "output_type": "stream",
     "text": [
      "0it [00:00, ?it/s]"
     ]
    },
    {
     "name": "stdout",
     "output_type": "stream",
     "text": [
      "Downloading http://yann.lecun.com/exdb/mnist/train-labels-idx1-ubyte.gz to ./data/MNIST/raw/train-labels-idx1-ubyte.gz\n"
     ]
    },
    {
     "name": "stderr",
     "output_type": "stream",
     "text": [
      "32768it [00:00, 60093.72it/s]                           \n",
      "0it [00:00, ?it/s]"
     ]
    },
    {
     "name": "stdout",
     "output_type": "stream",
     "text": [
      "Extracting ./data/MNIST/raw/train-labels-idx1-ubyte.gz to ./data/MNIST/raw\n",
      "Downloading http://yann.lecun.com/exdb/mnist/t10k-images-idx3-ubyte.gz to ./data/MNIST/raw/t10k-images-idx3-ubyte.gz\n"
     ]
    },
    {
     "name": "stderr",
     "output_type": "stream",
     "text": [
      "1654784it [00:03, 424061.60it/s]                             \n",
      "0it [00:00, ?it/s]"
     ]
    },
    {
     "name": "stdout",
     "output_type": "stream",
     "text": [
      "Extracting ./data/MNIST/raw/t10k-images-idx3-ubyte.gz to ./data/MNIST/raw\n",
      "Downloading http://yann.lecun.com/exdb/mnist/t10k-labels-idx1-ubyte.gz to ./data/MNIST/raw/t10k-labels-idx1-ubyte.gz\n"
     ]
    },
    {
     "name": "stderr",
     "output_type": "stream",
     "text": [
      "8192it [00:00, 21795.03it/s]            "
     ]
    },
    {
     "name": "stdout",
     "output_type": "stream",
     "text": [
      "Extracting ./data/MNIST/raw/t10k-labels-idx1-ubyte.gz to ./data/MNIST/raw\n",
      "Processing...\n",
      "Done!\n"
     ]
    },
    {
     "name": "stderr",
     "output_type": "stream",
     "text": [
      "\n"
     ]
    }
   ],
   "source": [
    "# Hyperparameters\n",
    "\n",
    "num_clients = 100\n",
    "num_selected = 5\n",
    "num_rounds = 5\n",
    "epochs = 5\n",
    "batch_size = 32\n",
    "\n",
    "# Creating decentralized datasets\n",
    "\n",
    "traindata = datasets.MNIST('./data', train=True, download=True,\n",
    "                       transform=transforms.Compose([transforms.ToTensor(),transforms.Normalize((0.1307,), (0.3081,))])\n",
    "                       )\n",
    "traindata_split = torch.utils.data.random_split(traindata, [int(traindata.data.shape[0] / num_clients) for _ in range(num_clients)])\n",
    "train_loader = [torch.utils.data.DataLoader(x, batch_size=batch_size, shuffle=True) for x in traindata_split]\n",
    "\n",
    "test_loader = torch.utils.data.DataLoader(\n",
    "        datasets.MNIST('./data', train=False, transform=transforms.Compose([transforms.ToTensor(),transforms.Normalize((0.1307,), (0.3081,))])\n",
    "        ), batch_size=batch_size, shuffle=True)"
   ]
  },
  {
   "cell_type": "code",
   "execution_count": 5,
   "metadata": {},
   "outputs": [
    {
     "name": "stdout",
     "output_type": "stream",
     "text": [
      "Train loss: 2.262230\n",
      "Train loss: 2.235266\n",
      "Train loss: 2.232000\n",
      "Train loss: 2.267997\n",
      "Train loss: 2.249782\n",
      "\n",
      "Test loss: 2.2472, Accuracy: 2620/10000 (26%)\n",
      "\n",
      "Train loss: 2.164184\n",
      "Train loss: 2.178260\n",
      "Train loss: 2.206033\n",
      "Train loss: 2.205151\n",
      "Train loss: 2.198921\n",
      "\n",
      "Test loss: 2.1855, Accuracy: 3780/10000 (38%)\n",
      "\n",
      "Train loss: 2.079116\n",
      "Train loss: 2.085637\n",
      "Train loss: 2.072364\n",
      "Train loss: 2.144063\n",
      "Train loss: 2.127028\n",
      "\n",
      "Test loss: 2.0926, Accuracy: 4818/10000 (48%)\n",
      "\n",
      "Train loss: 1.994810\n",
      "Train loss: 1.936206\n",
      "Train loss: 1.979727\n",
      "Train loss: 1.950891\n",
      "Train loss: 1.993379\n",
      "\n",
      "Test loss: 1.9676, Accuracy: 5418/10000 (54%)\n",
      "\n",
      "Train loss: 1.810959\n",
      "Train loss: 1.921714\n",
      "Train loss: 1.904141\n",
      "Train loss: 1.787483\n",
      "Train loss: 1.773445\n",
      "\n",
      "Test loss: 1.7973, Accuracy: 5861/10000 (59%)\n",
      "\n"
     ]
    }
   ],
   "source": [
    "# Instantiate models and optimizers\n",
    "\n",
    "global_model = Net().cuda()\n",
    "client_models = [Net().cuda() for _ in range(num_selected)]\n",
    "for model in client_models:\n",
    "    model.load_state_dict(global_model.state_dict())\n",
    "\n",
    "opt = [optim.SGD(model.parameters(), lr=0.001) for model in client_models]\n",
    "# Runnining FL\n",
    "\n",
    "for round in range(num_rounds):\n",
    "    # select random clients\n",
    "    client_idx = np.random.permutation(num_clients)[:num_selected]\n",
    "\n",
    "    # client update\n",
    "    for i in range(num_selected):\n",
    "        client_update(client_models[i], opt[i], train_loader[client_idx[i]], epoch=epochs)\n",
    "    \n",
    "    # serer aggregate\n",
    "    server_aggregate(global_model, client_models)\n",
    "    test_loss, acc = test(global_model, test_loader)"
   ]
  },
  {
   "cell_type": "code",
   "execution_count": 6,
   "metadata": {},
   "outputs": [
    {
     "name": "stdout",
     "output_type": "stream",
     "text": [
      "Train loss: 2.140615\n",
      "Train loss: 2.093284\n",
      "Train loss: 2.158375\n",
      "Train loss: 2.140799\n",
      "Train loss: 2.109223\n",
      "\n",
      "Test loss: 2.1185, Accuracy: 4306/10000 (43%)\n",
      "\n",
      "Train loss: 1.728553\n",
      "Train loss: 1.687636\n",
      "Train loss: 1.700896\n",
      "Train loss: 1.610476\n",
      "Train loss: 1.834261\n",
      "\n",
      "Test loss: 1.7227, Accuracy: 6040/10000 (60%)\n",
      "\n",
      "Train loss: 1.356174\n",
      "Train loss: 1.155247\n",
      "Train loss: 1.197011\n",
      "Train loss: 1.267018\n",
      "Train loss: 1.269918\n",
      "\n",
      "Test loss: 1.2154, Accuracy: 6860/10000 (69%)\n",
      "\n",
      "Train loss: 0.975063\n",
      "Train loss: 0.661186\n",
      "Train loss: 0.784656\n",
      "Train loss: 0.827621\n",
      "Train loss: 0.930010\n",
      "\n",
      "Test loss: 0.8892, Accuracy: 7503/10000 (75%)\n",
      "\n",
      "Train loss: 0.615026\n",
      "Train loss: 0.667032\n",
      "Train loss: 0.527943\n",
      "Train loss: 0.809375\n",
      "Train loss: 0.629045\n",
      "\n",
      "Test loss: 0.7303, Accuracy: 7886/10000 (79%)\n",
      "\n",
      "Train loss: 2.172666\n",
      "Train loss: 2.125777\n",
      "Train loss: 2.141700\n",
      "Train loss: 2.061370\n",
      "Train loss: 2.210159\n",
      "Train loss: 2.071659\n",
      "Train loss: 2.118256\n",
      "Train loss: 2.160131\n",
      "Train loss: 2.162329\n",
      "Train loss: 2.110314\n",
      "\n",
      "Test loss: 2.1613, Accuracy: 4074/10000 (41%)\n",
      "\n",
      "Train loss: 1.822530\n",
      "Train loss: 1.889113\n",
      "Train loss: 1.852782\n",
      "Train loss: 1.853656\n",
      "Train loss: 1.909028\n",
      "Train loss: 1.946624\n",
      "Train loss: 1.958943\n",
      "Train loss: 1.785604\n",
      "Train loss: 1.773014\n",
      "Train loss: 1.813052\n",
      "\n",
      "Test loss: 1.8913, Accuracy: 5551/10000 (56%)\n",
      "\n",
      "Train loss: 1.690646\n",
      "Train loss: 1.426362\n",
      "Train loss: 1.653559\n",
      "Train loss: 1.502115\n",
      "Train loss: 1.438077\n",
      "Train loss: 1.567728\n",
      "Train loss: 1.605847\n",
      "Train loss: 1.434487\n",
      "Train loss: 1.372449\n",
      "Train loss: 1.645032\n",
      "\n",
      "Test loss: 1.4781, Accuracy: 6419/10000 (64%)\n",
      "\n",
      "Train loss: 1.038298\n",
      "Train loss: 0.907806\n",
      "Train loss: 1.123210\n",
      "Train loss: 1.002392\n",
      "Train loss: 1.089958\n",
      "Train loss: 0.937636\n",
      "Train loss: 1.038667\n",
      "Train loss: 1.094970\n",
      "Train loss: 1.307203\n",
      "Train loss: 1.221796\n",
      "\n",
      "Test loss: 1.0693, Accuracy: 7225/10000 (72%)\n",
      "\n",
      "Train loss: 0.816835\n",
      "Train loss: 0.796441\n",
      "Train loss: 0.676818\n",
      "Train loss: 0.805119\n",
      "Train loss: 0.584565\n",
      "Train loss: 0.772263\n",
      "Train loss: 0.818670\n",
      "Train loss: 0.498825\n",
      "Train loss: 0.778255\n",
      "Train loss: 0.712174\n",
      "\n",
      "Test loss: 0.8097, Accuracy: 7789/10000 (78%)\n",
      "\n"
     ]
    }
   ],
   "source": [
    "# Different conditions\n",
    "\n",
    "epochs = 10   # more local epochs\n",
    "\n",
    "global_model = Net().cuda()\n",
    "client_models = [Net().cuda() for _ in range(num_selected)]\n",
    "for model in client_models:\n",
    "    model.load_state_dict(global_model.state_dict())\n",
    "\n",
    "opt = [optim.SGD(model.parameters(), lr=0.001) for model in client_models]\n",
    "\n",
    "for round in range(num_rounds):\n",
    "    # select random clients\n",
    "    client_idx = np.random.permutation(num_clients)[:num_selected]\n",
    "\n",
    "    # client update\n",
    "    for i in range(num_selected):\n",
    "        client_update(client_models[i], opt[i], train_loader[client_idx[i]], epoch=epochs)\n",
    "    \n",
    "    # serer aggregate\n",
    "    server_aggregate(global_model, client_models)\n",
    "    test_loss, acc = test(global_model, test_loader)\n",
    "\n",
    "\n",
    "num_selected = 10   # more clients\n",
    "\n",
    "global_model = Net().cuda()\n",
    "client_models = [Net().cuda() for _ in range(num_selected)]\n",
    "for model in client_models:\n",
    "    model.load_state_dict(global_model.state_dict())\n",
    "\n",
    "opt = [optim.SGD(model.parameters(), lr=0.001) for model in client_models]\n",
    "\n",
    "for round in range(num_rounds):\n",
    "    # select random clients\n",
    "    client_idx = np.random.permutation(num_clients)[:num_selected]\n",
    "\n",
    "    # client update\n",
    "    for i in range(num_selected):\n",
    "        client_update(client_models[i], opt[i], train_loader[client_idx[i]], epoch=epochs)\n",
    "    \n",
    "    # serer aggregate\n",
    "    server_aggregate(global_model, client_models)\n",
    "    test_loss, acc = test(global_model, test_loader)"
   ]
  },
  {
   "cell_type": "code",
   "execution_count": null,
   "metadata": {},
   "outputs": [],
   "source": []
  }
 ],
 "metadata": {
  "kernelspec": {
   "display_name": "Python 3",
   "language": "python",
   "name": "python3"
  },
  "language_info": {
   "codemirror_mode": {
    "name": "ipython",
    "version": 3
   },
   "file_extension": ".py",
   "mimetype": "text/x-python",
   "name": "python",
   "nbconvert_exporter": "python",
   "pygments_lexer": "ipython3",
   "version": "3.6.9"
  }
 },
 "nbformat": 4,
 "nbformat_minor": 4
}
